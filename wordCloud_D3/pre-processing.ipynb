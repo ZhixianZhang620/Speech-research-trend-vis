{
 "cells": [
  {
   "cell_type": "code",
   "execution_count": 1,
   "metadata": {},
   "outputs": [],
   "source": [
    "import numpy as np\n",
    "import pandas as pd\n",
    "import matplotlib.pyplot as plt\n",
    "from collections import Counter"
   ]
  },
  {
   "cell_type": "code",
   "execution_count": 14,
   "metadata": {},
   "outputs": [],
   "source": [
    "#get abstract\n",
    "df = pd.read_csv('result2.csv')\n",
    "df2 = df[['Abstract']]\n",
    "df2 = df2.dropna()\n",
    "abstract_string = df2['Abstract'].str.cat(sep=' ')\n",
    "abstract_string = abstract_string.replace(',','')\n",
    "abstract_string = abstract_string.replace('.','')\n",
    "abstract_string = abstract_string.lower()"
   ]
  },
  {
   "cell_type": "code",
   "execution_count": 7,
   "metadata": {},
   "outputs": [],
   "source": [
    "#read stopwords\n",
    "stopwords = pd.read_csv('stop_words.csv')\n",
    "sw = stopwords['a'].tolist()\n",
    "sw.append('a')"
   ]
  },
  {
   "cell_type": "code",
   "execution_count": 18,
   "metadata": {},
   "outputs": [],
   "source": [
    "#remove stopwords\n",
    "abstract_string = ' '.join([word for word in abstract_string.split() if word not in sw])"
   ]
  },
  {
   "cell_type": "code",
   "execution_count": 21,
   "metadata": {},
   "outputs": [],
   "source": [
    "#word count\n",
    "word_count = Counter(abstract_string.split())\n",
    "word_count = pd.DataFrame.from_dict(word_count, orient='index').reset_index()\n",
    "word_count.columns = ['word', 'count']\n",
    "word_count = word_count.sort_values(by='count', ascending=False)\n",
    "word_count = word_count.reset_index(drop=True)\n",
    "word_count.to_csv('word_count.csv', index=False)"
   ]
  },
  {
   "cell_type": "code",
   "execution_count": 22,
   "metadata": {},
   "outputs": [],
   "source": [
    "#get the first 100 words\n",
    "word_count = word_count.head(10)\n",
    "word_count.to_csv('word_count_10.csv', index=False)"
   ]
  },
  {
   "cell_type": "code",
   "execution_count": null,
   "metadata": {},
   "outputs": [],
   "source": []
  }
 ],
 "metadata": {
  "kernelspec": {
   "display_name": "Python 3",
   "language": "python",
   "name": "python3"
  },
  "language_info": {
   "codemirror_mode": {
    "name": "ipython",
    "version": 3
   },
   "file_extension": ".py",
   "mimetype": "text/x-python",
   "name": "python",
   "nbconvert_exporter": "python",
   "pygments_lexer": "ipython3",
   "version": "3.9.7"
  },
  "orig_nbformat": 4,
  "vscode": {
   "interpreter": {
    "hash": "399d0e3137bfbbe732ffce16f404d0134f25670dcd6d6cdc60d5d201443092cb"
   }
  }
 },
 "nbformat": 4,
 "nbformat_minor": 2
}
