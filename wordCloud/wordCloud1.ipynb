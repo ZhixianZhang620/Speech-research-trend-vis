{
 "cells": [
  {
   "cell_type": "code",
   "execution_count": 41,
   "metadata": {},
   "outputs": [],
   "source": [
    "import plotly\n",
    "import plotly.graph_objs as go\n",
    "from plotly.offline import plot\n",
    "import random\n",
    "from collections import Counter\n",
    "import pandas as pd\n",
    "import numpy as np"
   ]
  },
  {
   "cell_type": "code",
   "execution_count": 42,
   "metadata": {},
   "outputs": [],
   "source": [
    "with open('abstract_string.txt', 'r') as f:\n",
    "    abstract_string = f.read()\n",
    "stopwords = pd.read_csv('stop_words.csv')\n",
    "sw = stopwords['a'].tolist()\n",
    "sw.append('a')\n",
    "#abstract_string remove ','\n",
    "abstract_string = abstract_string.replace(',','')\n",
    "abstract_string = abstract_string.replace('.','')\n",
    "#abstract_string make capital to lower\n",
    "abstract_string = abstract_string.lower()\n",
    "abstract_string = abstract_string.replace('speech', '')"
   ]
  },
  {
   "cell_type": "code",
   "execution_count": 44,
   "metadata": {},
   "outputs": [
    {
     "data": {
      "text/plain": [
       "'temp-plot.html'"
      ]
     },
     "execution_count": 44,
     "metadata": {},
     "output_type": "execute_result"
    }
   ],
   "source": [
    "#count the frequency of each word in abstract_string\n",
    "word_count = Counter(abstract_string.split())\n",
    "#remove stopwords\n",
    "for word in list(word_count):\n",
    "    if word in sw:\n",
    "        del word_count[word]\n",
    "\n",
    "top_100 = word_count.most_common(100)\n",
    "#generate random normal distribution\n",
    "np.random.seed(4)\n",
    "#set random seed\n",
    "random.seed(9)\n",
    "#create a round word cloud\n",
    "#count for the last word\n",
    "last_count = top_100[-1][1]\n",
    "words = [i[0] for i in top_100]\n",
    "colors = colors = [plotly.colors.qualitative.D3[random.randrange(1, 10)] for i in range(100)]\n",
    "weights = [i[1]/last_count * 10 for i in top_100]\n",
    "rando = np.random.normal(0.5, 0.1, 100)\n",
    "#let words in word cloud don't cover each other\n",
    "data = go.Scatter(x=[np.random.normal(0, 3) for i in range(100)],\n",
    "                 y=[np.random.normal(0, 3) for i in range(100)],\n",
    "                 mode='text',\n",
    "                 text=words,\n",
    "                 marker={'opacity': 0.5},\n",
    "                 textfont={'size': weights,\n",
    "                           'color': colors})\n",
    "layout = go.Layout({'xaxis': {'showgrid': False, 'showticklabels': False, 'zeroline': False},\n",
    "                    'yaxis': {'showgrid': False, 'showticklabels': False, 'zeroline': False}})\n",
    "\n",
    "#set lable for word cloud\n",
    "layout['title'] = 'Word Cloud of Abstract'\n",
    "layout['titlefont'] = {'size': 20}\n",
    "\n",
    "#set background color\n",
    "layout['plot_bgcolor'] = 'rgb(255, 255, 255)'\n",
    "\n",
    "fig = go.Figure(data=[data], layout=layout)\n",
    "\n",
    "plot(fig)\n"
   ]
  },
  {
   "cell_type": "code",
   "execution_count": null,
   "metadata": {},
   "outputs": [],
   "source": []
  },
  {
   "cell_type": "code",
   "execution_count": null,
   "metadata": {},
   "outputs": [],
   "source": []
  }
 ],
 "metadata": {
  "kernelspec": {
   "display_name": "Python 3",
   "language": "python",
   "name": "python3"
  },
  "language_info": {
   "codemirror_mode": {
    "name": "ipython",
    "version": 3
   },
   "file_extension": ".py",
   "mimetype": "text/x-python",
   "name": "python",
   "nbconvert_exporter": "python",
   "pygments_lexer": "ipython3",
   "version": "3.9.7"
  },
  "orig_nbformat": 4,
  "vscode": {
   "interpreter": {
    "hash": "399d0e3137bfbbe732ffce16f404d0134f25670dcd6d6cdc60d5d201443092cb"
   }
  }
 },
 "nbformat": 4,
 "nbformat_minor": 2
}
