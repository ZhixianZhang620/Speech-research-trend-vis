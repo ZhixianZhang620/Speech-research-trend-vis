{
 "cells": [
  {
   "cell_type": "code",
   "execution_count": 38,
   "metadata": {},
   "outputs": [],
   "source": [
    "import numpy as np\n",
    "import pandas as pd\n",
    "import matplotlib.pyplot as plt\n",
    "from collections import Counter"
   ]
  },
  {
   "cell_type": "code",
   "execution_count": 58,
   "metadata": {},
   "outputs": [],
   "source": [
    "#creat a df with only Date and abstract\n",
    "df = pd.read_csv('result2.csv')\n",
    "df2 = df[['Date','Abstract']]\n",
    "df2 = df2.dropna()\n",
    "df3 = df2.groupby(df2['Date'].str[:4])\n",
    "df4 = df3['Abstract'].apply(lambda x: ' '.join(x))\n",
    "df4 = df4.reset_index()\n",
    "df4.columns = ['Date','Abstract']"
   ]
  },
  {
   "cell_type": "code",
   "execution_count": 62,
   "metadata": {},
   "outputs": [],
   "source": [
    "#concatenate all abstracts in one string\n",
    "abstract_string = df4['Abstract'].str.cat(sep=' ')\n",
    "#save the string\n",
    "with open('abstract_string.txt', 'w') as f:\n",
    "    f.write(abstract_string)"
   ]
  },
  {
   "cell_type": "code",
   "execution_count": null,
   "metadata": {},
   "outputs": [],
   "source": []
  }
 ],
 "metadata": {
  "kernelspec": {
   "display_name": "Python 3",
   "language": "python",
   "name": "python3"
  },
  "language_info": {
   "codemirror_mode": {
    "name": "ipython",
    "version": 3
   },
   "file_extension": ".py",
   "mimetype": "text/x-python",
   "name": "python",
   "nbconvert_exporter": "python",
   "pygments_lexer": "ipython3",
   "version": "3.9.7"
  },
  "orig_nbformat": 4,
  "vscode": {
   "interpreter": {
    "hash": "399d0e3137bfbbe732ffce16f404d0134f25670dcd6d6cdc60d5d201443092cb"
   }
  }
 },
 "nbformat": 4,
 "nbformat_minor": 2
}
