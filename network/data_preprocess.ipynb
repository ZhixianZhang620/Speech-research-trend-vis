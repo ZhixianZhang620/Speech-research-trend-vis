{
 "cells": [
  {
   "attachments": {},
   "cell_type": "markdown",
   "metadata": {},
   "source": [
    "# Data preprocess\n",
    "### Author: Yueqian Lin"
   ]
  },
  {
   "attachments": {},
   "cell_type": "markdown",
   "metadata": {},
   "source": [
    "## Step 1: Load data and get author list"
   ]
  },
  {
   "cell_type": "code",
   "execution_count": 1,
   "metadata": {},
   "outputs": [],
   "source": [
    "# find the top 100 authors with high citation counts in the last 3 years\n",
    "\n",
    "import pandas as pd\n",
    "import numpy as np\n",
    "import matplotlib.pyplot as plt\n",
    "import seaborn as sns\n",
    "import networkx as nx\n",
    "\n",
    "df= pd.read_csv(\"../result4.csv\")"
   ]
  },
  {
   "cell_type": "code",
   "execution_count": 2,
   "metadata": {},
   "outputs": [
    {
     "data": {
      "text/html": [
       "<div>\n",
       "<style scoped>\n",
       "    .dataframe tbody tr th:only-of-type {\n",
       "        vertical-align: middle;\n",
       "    }\n",
       "\n",
       "    .dataframe tbody tr th {\n",
       "        vertical-align: top;\n",
       "    }\n",
       "\n",
       "    .dataframe thead th {\n",
       "        text-align: right;\n",
       "    }\n",
       "</style>\n",
       "<table border=\"1\" class=\"dataframe\">\n",
       "  <thead>\n",
       "    <tr style=\"text-align: right;\">\n",
       "      <th></th>\n",
       "      <th>Title</th>\n",
       "      <th>Author Name</th>\n",
       "      <th>Author Id</th>\n",
       "      <th>1st Author Paper Count</th>\n",
       "      <th>1st Author Citation Count</th>\n",
       "      <th>Date</th>\n",
       "      <th>Abstract</th>\n",
       "      <th>Paper Reference Count</th>\n",
       "      <th>Paper Citation Count</th>\n",
       "      <th>Influential Citation Count</th>\n",
       "      <th>Venue</th>\n",
       "      <th>Fields Of Study</th>\n",
       "    </tr>\n",
       "  </thead>\n",
       "  <tbody>\n",
       "    <tr>\n",
       "      <th>0</th>\n",
       "      <td>wav2vec 2.0: A Framework for Self-Supervised L...</td>\n",
       "      <td>Alexei Baevski, Henry Zhou, Abdel-rahman Moham...</td>\n",
       "      <td>['51428394', '2110147709', '40360972', '2325985']</td>\n",
       "      <td>34.0</td>\n",
       "      <td>6941.0</td>\n",
       "      <td>2020-06-20</td>\n",
       "      <td>We show for the first time that learning power...</td>\n",
       "      <td>59</td>\n",
       "      <td>1633</td>\n",
       "      <td>314</td>\n",
       "      <td>Neural Information Processing Systems</td>\n",
       "      <td>['Computer Science', 'Engineering']</td>\n",
       "    </tr>\n",
       "    <tr>\n",
       "      <th>1</th>\n",
       "      <td>Conformer: Convolution-augmented Transformer f...</td>\n",
       "      <td>Anmol Gulati, James Qin, C. Chiu, Niki Parmar,...</td>\n",
       "      <td>['4478284', '47901308', '145039780', '3877127'...</td>\n",
       "      <td>19.0</td>\n",
       "      <td>1571.0</td>\n",
       "      <td>2020-05-16</td>\n",
       "      <td>Recently Transformer and Convolution neural ne...</td>\n",
       "      <td>36</td>\n",
       "      <td>1099</td>\n",
       "      <td>214</td>\n",
       "      <td>Interspeech</td>\n",
       "      <td>['Computer Science', 'Engineering']</td>\n",
       "    </tr>\n",
       "    <tr>\n",
       "      <th>2</th>\n",
       "      <td>HiFi-GAN: Generative Adversarial Networks for ...</td>\n",
       "      <td>Jungil Kong, Jaehyeon Kim, Jaekyoung Bae,</td>\n",
       "      <td>['1712238254', '94862572', '1703883959']</td>\n",
       "      <td>3.0</td>\n",
       "      <td>818.0</td>\n",
       "      <td>2020-10-12</td>\n",
       "      <td>Several recent work on speech synthesis have e...</td>\n",
       "      <td>27</td>\n",
       "      <td>505</td>\n",
       "      <td>116</td>\n",
       "      <td>Neural Information Processing Systems</td>\n",
       "      <td>['Computer Science', 'Engineering']</td>\n",
       "    </tr>\n",
       "    <tr>\n",
       "      <th>3</th>\n",
       "      <td>FastSpeech 2: Fast and High-Quality End-to-End...</td>\n",
       "      <td>Yi Ren, Chenxu Hu, Xu Tan, Tao Qin, Sheng Zhao...</td>\n",
       "      <td>['1500435161', '2118956725', '48391466', '1438...</td>\n",
       "      <td>58.0</td>\n",
       "      <td>1974.0</td>\n",
       "      <td>2020-06-08</td>\n",
       "      <td>Advanced text to speech (TTS) models such as F...</td>\n",
       "      <td>54</td>\n",
       "      <td>514</td>\n",
       "      <td>105</td>\n",
       "      <td>International Conference on Learning Represent...</td>\n",
       "      <td>['Computer Science', 'Engineering']</td>\n",
       "    </tr>\n",
       "    <tr>\n",
       "      <th>4</th>\n",
       "      <td>The airborne lifetime of small speech droplets...</td>\n",
       "      <td>V. Stadnytskyi, C. Bax, A. Bax, P. Anfinrud,</td>\n",
       "      <td>['3767476', '1633622443', '2074083973', '42414...</td>\n",
       "      <td>25.0</td>\n",
       "      <td>1303.0</td>\n",
       "      <td>2020-05-13</td>\n",
       "      <td>Speech droplets generated by asymptomatic carr...</td>\n",
       "      <td>20</td>\n",
       "      <td>790</td>\n",
       "      <td>39</td>\n",
       "      <td>Proceedings of the National Academy of Sciences</td>\n",
       "      <td>['Medicine', 'Materials Science']</td>\n",
       "    </tr>\n",
       "  </tbody>\n",
       "</table>\n",
       "</div>"
      ],
      "text/plain": [
       "                                               Title  \\\n",
       "0  wav2vec 2.0: A Framework for Self-Supervised L...   \n",
       "1  Conformer: Convolution-augmented Transformer f...   \n",
       "2  HiFi-GAN: Generative Adversarial Networks for ...   \n",
       "3  FastSpeech 2: Fast and High-Quality End-to-End...   \n",
       "4  The airborne lifetime of small speech droplets...   \n",
       "\n",
       "                                         Author Name  \\\n",
       "0  Alexei Baevski, Henry Zhou, Abdel-rahman Moham...   \n",
       "1  Anmol Gulati, James Qin, C. Chiu, Niki Parmar,...   \n",
       "2          Jungil Kong, Jaehyeon Kim, Jaekyoung Bae,   \n",
       "3  Yi Ren, Chenxu Hu, Xu Tan, Tao Qin, Sheng Zhao...   \n",
       "4       V. Stadnytskyi, C. Bax, A. Bax, P. Anfinrud,   \n",
       "\n",
       "                                           Author Id  1st Author Paper Count  \\\n",
       "0  ['51428394', '2110147709', '40360972', '2325985']                    34.0   \n",
       "1  ['4478284', '47901308', '145039780', '3877127'...                    19.0   \n",
       "2           ['1712238254', '94862572', '1703883959']                     3.0   \n",
       "3  ['1500435161', '2118956725', '48391466', '1438...                    58.0   \n",
       "4  ['3767476', '1633622443', '2074083973', '42414...                    25.0   \n",
       "\n",
       "   1st Author Citation Count        Date  \\\n",
       "0                     6941.0  2020-06-20   \n",
       "1                     1571.0  2020-05-16   \n",
       "2                      818.0  2020-10-12   \n",
       "3                     1974.0  2020-06-08   \n",
       "4                     1303.0  2020-05-13   \n",
       "\n",
       "                                            Abstract  Paper Reference Count  \\\n",
       "0  We show for the first time that learning power...                     59   \n",
       "1  Recently Transformer and Convolution neural ne...                     36   \n",
       "2  Several recent work on speech synthesis have e...                     27   \n",
       "3  Advanced text to speech (TTS) models such as F...                     54   \n",
       "4  Speech droplets generated by asymptomatic carr...                     20   \n",
       "\n",
       "   Paper Citation Count  Influential Citation Count  \\\n",
       "0                  1633                         314   \n",
       "1                  1099                         214   \n",
       "2                   505                         116   \n",
       "3                   514                         105   \n",
       "4                   790                          39   \n",
       "\n",
       "                                               Venue  \\\n",
       "0              Neural Information Processing Systems   \n",
       "1                                        Interspeech   \n",
       "2              Neural Information Processing Systems   \n",
       "3  International Conference on Learning Represent...   \n",
       "4    Proceedings of the National Academy of Sciences   \n",
       "\n",
       "                       Fields Of Study  \n",
       "0  ['Computer Science', 'Engineering']  \n",
       "1  ['Computer Science', 'Engineering']  \n",
       "2  ['Computer Science', 'Engineering']  \n",
       "3  ['Computer Science', 'Engineering']  \n",
       "4    ['Medicine', 'Materials Science']  "
      ]
     },
     "execution_count": 2,
     "metadata": {},
     "output_type": "execute_result"
    }
   ],
   "source": [
    "df.head()"
   ]
  },
  {
   "cell_type": "code",
   "execution_count": 10,
   "metadata": {},
   "outputs": [],
   "source": [
    "# now get a list of top 100 paper's authors with high citation counts in the last 3 years\n",
    "\n",
    "df1 = df.sort_values(by=['Paper Citation Count'], ascending=False).head(100)\n",
    "authors = df1['Author Name'].tolist()\n",
    "authors = [x for x in authors if str(x) != 'nan']\n"
   ]
  },
  {
   "cell_type": "code",
   "execution_count": 15,
   "metadata": {},
   "outputs": [],
   "source": [
    "# Define a function to extract the author names from each entry\n",
    "def extract_authors(entry):\n",
    "    # Remove the trailing comma from the entry\n",
    "    entry = entry.rstrip(',')\n",
    "    # Split the entry into a list of individual author names\n",
    "    author_list = entry.split(', ')\n",
    "    # Remove any leading or trailing whitespace from the author names\n",
    "    author_list = [author.strip() for author in author_list]\n",
    "    # Return the list of author names\n",
    "    return author_list\n",
    "\n",
    "# Apply the function to each entry in the authors list\n",
    "all_authors = []\n",
    "for entry in authors:\n",
    "    all_authors.extend(extract_authors(entry))\n",
    "# Remove any duplicates from the list of authors\n",
    "all_authors = list(set(all_authors))"
   ]
  },
  {
   "cell_type": "code",
   "execution_count": 19,
   "metadata": {},
   "outputs": [],
   "source": [
    "# add ming li\n",
    "all_authors.append('Ming Li')"
   ]
  },
  {
   "attachments": {},
   "cell_type": "markdown",
   "metadata": {},
   "source": [
    "## Step 2: Filter combinations from author list"
   ]
  },
  {
   "cell_type": "code",
   "execution_count": 20,
   "metadata": {},
   "outputs": [
    {
     "data": {
      "text/html": [
       "<div>\n",
       "<style scoped>\n",
       "    .dataframe tbody tr th:only-of-type {\n",
       "        vertical-align: middle;\n",
       "    }\n",
       "\n",
       "    .dataframe tbody tr th {\n",
       "        vertical-align: top;\n",
       "    }\n",
       "\n",
       "    .dataframe thead th {\n",
       "        text-align: right;\n",
       "    }\n",
       "</style>\n",
       "<table border=\"1\" class=\"dataframe\">\n",
       "  <thead>\n",
       "    <tr style=\"text-align: right;\">\n",
       "      <th></th>\n",
       "      <th>Author 1</th>\n",
       "      <th>Author 2</th>\n",
       "    </tr>\n",
       "  </thead>\n",
       "  <tbody>\n",
       "    <tr>\n",
       "      <th>0</th>\n",
       "      <td>Alexei Baevski</td>\n",
       "      <td>Henry Zhou</td>\n",
       "    </tr>\n",
       "    <tr>\n",
       "      <th>1</th>\n",
       "      <td>Alexei Baevski</td>\n",
       "      <td>Abdel-rahman Mohamed</td>\n",
       "    </tr>\n",
       "    <tr>\n",
       "      <th>2</th>\n",
       "      <td>Alexei Baevski</td>\n",
       "      <td>Michael Auli,</td>\n",
       "    </tr>\n",
       "    <tr>\n",
       "      <th>3</th>\n",
       "      <td>Henry Zhou</td>\n",
       "      <td>Abdel-rahman Mohamed</td>\n",
       "    </tr>\n",
       "    <tr>\n",
       "      <th>4</th>\n",
       "      <td>Henry Zhou</td>\n",
       "      <td>Michael Auli,</td>\n",
       "    </tr>\n",
       "  </tbody>\n",
       "</table>\n",
       "</div>"
      ],
      "text/plain": [
       "         Author 1              Author 2\n",
       "0  Alexei Baevski            Henry Zhou\n",
       "1  Alexei Baevski  Abdel-rahman Mohamed\n",
       "2  Alexei Baevski         Michael Auli,\n",
       "3      Henry Zhou  Abdel-rahman Mohamed\n",
       "4      Henry Zhou         Michael Auli,"
      ]
     },
     "execution_count": 20,
     "metadata": {},
     "output_type": "execute_result"
    }
   ],
   "source": [
    "comb = pd.read_csv(\"output_file.csv\")\n",
    "comb.head()"
   ]
  },
  {
   "cell_type": "code",
   "execution_count": 25,
   "metadata": {},
   "outputs": [],
   "source": [
    "# filter according to the authors list\n",
    "comb = comb[(comb['Author 1'].isin(all_authors) | comb['Author 2'].isin(all_authors))]\n",
    "comb.to_csv(\"output_filtered.csv\", index=False)"
   ]
  },
  {
   "cell_type": "code",
   "execution_count": 27,
   "metadata": {},
   "outputs": [
    {
     "data": {
      "text/plain": [
       "14665"
      ]
     },
     "execution_count": 27,
     "metadata": {},
     "output_type": "execute_result"
    }
   ],
   "source": []
  },
  {
   "cell_type": "code",
   "execution_count": null,
   "metadata": {},
   "outputs": [],
   "source": []
  }
 ],
 "metadata": {
  "kernelspec": {
   "display_name": "fp",
   "language": "python",
   "name": "python3"
  },
  "language_info": {
   "codemirror_mode": {
    "name": "ipython",
    "version": 3
   },
   "file_extension": ".py",
   "mimetype": "text/x-python",
   "name": "python",
   "nbconvert_exporter": "python",
   "pygments_lexer": "ipython3",
   "version": "3.9.15"
  },
  "orig_nbformat": 4,
  "vscode": {
   "interpreter": {
    "hash": "c2676c0d50d021c0ab6745578d37607fe06a9d78dd74021a4811f6c590724974"
   }
  }
 },
 "nbformat": 4,
 "nbformat_minor": 2
}
